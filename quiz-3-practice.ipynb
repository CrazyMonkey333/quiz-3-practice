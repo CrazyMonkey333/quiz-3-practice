{
 "cells": [
  {
   "cell_type": "markdown",
   "metadata": {},
   "source": [
    "# Quiz 3 Practice"
   ]
  },
  {
   "cell_type": "markdown",
   "metadata": {},
   "source": [
    "## Background\n",
    "\n",
    "Congratulations! You've been hired by Professor Willow as a research fellow to study the wonderous world of Pokémon Go. Professor Willow is oddly curious about the Mouse Pokémon, Pikachu. Professor Willow has collected information about all different sorts of Pokémon around the world and it's up to you to figure out what about a  Pokémon makes it a Pikachu. Professor Willow also was kind enough to leave you a data dictionary of all the information he collected [here](./data-dic.txt). Good luck!"
   ]
  },
  {
   "cell_type": "markdown",
   "metadata": {},
   "source": [
    "<img src=\"./images/Pikachu.png\" alt=\"drawing\" width=\"450\"/>"
   ]
  },
  {
   "cell_type": "markdown",
   "metadata": {},
   "source": [
    "### 1. Import your libraries\n",
    "\n",
    "Professor Willow thinks that a K Nearest Neighbors Classifier and a Logistic Classifier will help you in figuring out the secrets behind Pikachu. Prtofessor Willow also thinks that PolynomialFeatures and GridSearchCV will be useful. A final note from Professor Willow says that he's a huge fan of confusion matrices. "
   ]
  },
  {
   "cell_type": "code",
   "execution_count": null,
   "metadata": {},
   "outputs": [],
   "source": [
    "# import libraries here"
   ]
  },
  {
   "cell_type": "markdown",
   "metadata": {},
   "source": [
    "### 2. Read in the data that Professor Willow left"
   ]
  },
  {
   "cell_type": "code",
   "execution_count": null,
   "metadata": {},
   "outputs": [],
   "source": []
  },
  {
   "cell_type": "markdown",
   "metadata": {},
   "source": [
    "### 3. The Professor says he only like Clean Data\n",
    "\n",
    "Do any cleaning to the data you think is neccessary, the professor thinks it's likely you'll drop some columns.  "
   ]
  },
  {
   "cell_type": "code",
   "execution_count": null,
   "metadata": {
    "scrolled": false
   },
   "outputs": [],
   "source": [
    "# your data cleaning here"
   ]
  },
  {
   "cell_type": "markdown",
   "metadata": {},
   "source": [
    "### 4. The Professor wants you to use the pokemon_id column as your target variable\n",
    "\n",
    "**Note** : Pikachu has a national Pokédex number of 25. "
   ]
  },
  {
   "cell_type": "code",
   "execution_count": null,
   "metadata": {},
   "outputs": [],
   "source": [
    "# set up your target variable"
   ]
  },
  {
   "cell_type": "markdown",
   "metadata": {},
   "source": [
    "### 5. The Professor has given you the freedom to choose whatever predictor variables you want, however he requires that you to use PolynomialFeatures with at least two variables, as well as use at least one categorical variable.\n",
    "\n",
    "Create your predictor variables below and make sure to dummify your categorical variable. You may also want to scale your data here too. "
   ]
  },
  {
   "cell_type": "code",
   "execution_count": null,
   "metadata": {},
   "outputs": [],
   "source": [
    "# create your predictor variables"
   ]
  },
  {
   "cell_type": "markdown",
   "metadata": {},
   "source": [
    "### 6. Verify how many Pikachu and not Pikachu are in the data and create a train/test split appropriately. "
   ]
  },
  {
   "cell_type": "code",
   "execution_count": null,
   "metadata": {},
   "outputs": [],
   "source": [
    "# train/test split here"
   ]
  },
  {
   "cell_type": "markdown",
   "metadata": {},
   "source": [
    "## OH NO!!!! Team Rocket disrupts your work!\n",
    "\n",
    "<img src=\"./images/team_rocket.png\" alt=\"drawing\" width=\"450\"/>"
   ]
  },
  {
   "cell_type": "markdown",
   "metadata": {},
   "source": [
    "## Luckily,  Professor Willow left you with a strong Pikachu to send them blasting off again :)"
   ]
  },
  {
   "cell_type": "markdown",
   "metadata": {},
   "source": [
    "### 7. With Team Rocket taken care of, you are now tasked with using GridSearch to fit a K Nearest Neighbors model using odd numbers of nearest neighbors up to 25. "
   ]
  },
  {
   "cell_type": "code",
   "execution_count": null,
   "metadata": {},
   "outputs": [],
   "source": [
    "# grid search code here"
   ]
  },
  {
   "cell_type": "markdown",
   "metadata": {},
   "source": [
    "### 8. Determine the best number of neighbors to use. Also comment on how this affects the bias/varience of your model, Dr. Willow expects a good explanation!"
   ]
  },
  {
   "cell_type": "code",
   "execution_count": null,
   "metadata": {},
   "outputs": [],
   "source": [
    "# best neighbors here "
   ]
  },
  {
   "cell_type": "markdown",
   "metadata": {},
   "source": [
    "### 9. Score your model, decide whether your model is overfit or underfit. "
   ]
  },
  {
   "cell_type": "code",
   "execution_count": null,
   "metadata": {},
   "outputs": [],
   "source": [
    "# score model here"
   ]
  },
  {
   "cell_type": "markdown",
   "metadata": {},
   "source": [
    "### 10. Create and plot a confusion matrix to see how well your model identified Pikachu. Comment on the specificity and sensitivity of your model. "
   ]
  },
  {
   "cell_type": "code",
   "execution_count": null,
   "metadata": {},
   "outputs": [],
   "source": [
    "# confusion matrix here"
   ]
  },
  {
   "cell_type": "markdown",
   "metadata": {},
   "source": [
    "### 11. Professor Willow doesn't think K Nearest Neighbors will be good at identifying Pikachu so he asks you to create a Logistic Regression model that he thinks will do better. \n",
    "\n",
    "Do this with LASSO and Ridge regularization with $\\alpha $ values between 1 and 100. As the professor loves grid search you are expected to do it here as well. "
   ]
  },
  {
   "cell_type": "code",
   "execution_count": null,
   "metadata": {},
   "outputs": [],
   "source": [
    "# create logistic regression model"
   ]
  },
  {
   "cell_type": "markdown",
   "metadata": {},
   "source": [
    "### 12. Find the best model as well as score your model in order to compare it to your KNN model. Is Professor Willow right or should we just have gone with KNN?"
   ]
  },
  {
   "cell_type": "code",
   "execution_count": null,
   "metadata": {},
   "outputs": [],
   "source": [
    "# find and score your best model here"
   ]
  },
  {
   "cell_type": "markdown",
   "metadata": {},
   "source": [
    "### 13. Create and plot a confusion matrix for your Logistic Regression model. Comment on the specificity and sensitivity of your model. "
   ]
  },
  {
   "cell_type": "code",
   "execution_count": null,
   "metadata": {},
   "outputs": [],
   "source": [
    "# confusion matrix here"
   ]
  },
  {
   "cell_type": "markdown",
   "metadata": {},
   "source": [
    "### 14. Finally use your best logistic regression model and evaluate the coefficients of all the predictor variables you decided to use. "
   ]
  },
  {
   "cell_type": "code",
   "execution_count": null,
   "metadata": {},
   "outputs": [],
   "source": [
    "# evaluate coefficients here"
   ]
  }
 ],
 "metadata": {
  "kernelspec": {
   "display_name": "Python 3",
   "language": "python",
   "name": "python3"
  },
  "language_info": {
   "codemirror_mode": {
    "name": "ipython",
    "version": 3
   },
   "file_extension": ".py",
   "mimetype": "text/x-python",
   "name": "python",
   "nbconvert_exporter": "python",
   "pygments_lexer": "ipython3",
   "version": "3.8.3"
  }
 },
 "nbformat": 4,
 "nbformat_minor": 4
}
